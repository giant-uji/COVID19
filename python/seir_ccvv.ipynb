{
 "cells": [
  {
   "cell_type": "code",
   "metadata": {
    "collapsed": true,
    "pycharm": {
     "name": "#%%\n",
     "is_executing": false
    }
   },
   "source": [
    "%matplotlib inline\n",
    "import matplotlib.pyplot as plt\n",
    "import numpy as np\n",
    "import pandas as pd\n"
   ],
   "execution_count": 10,
   "outputs": []
  },
  {
   "cell_type": "markdown",
   "source": [
    "# Modelo SEIR\n",
    "En una población en la que se ha desatado una epidemia, en un \n",
    "determinado tiempo $t$ los individuos pueden estar en cuatro \n",
    "estados distintos:\n",
    "\n",
    "- Susceptibles $S(t)$: Se pueden infectar (no están enfermos ni son inmunes) cuando \n",
    "entran en contacto con contagiados. La tasa de infección se controla mediante el parámetro\n",
    "$\\beta$, que depende de si la enfermedad es más o menos infecciosa.\n",
    "\n",
    "- Expuestos $E(t)$: Son individuos que portan la enfermedad en periodo de incubación.\n",
    "No muestran síntomas y no pueden contagiar a nadie. Cuando transcurre el periodo de \n",
    "incubación pasan al grupo de infectados. El parámetro $\\sigma$ representa el tiempo \n",
    "de incubación\n",
    "\n",
    "- Infectados $I(t)$: Individuos infectados en el instante $t$. Se *recuperan*\n",
    " con el tiempo según un parámetro $\\gamma$ denominado tasa de recuperación, y\n",
    " que depende del tiempo que suele durar la enfermedad. Una vez recuperados, \n",
    " los individuos no afectan al desarrollo de la epidemia (son inmunes o \n",
    " han muerto)\n",
    " \n",
    "- Recuperados $R(t)$: Individuos que han pasado la enfermedad y se han \n",
    "inmunizado o han fallecido. En cualquier caso, no afectan a la propagación.\n",
    "\n",
    "En cualquier momento $t$, la suma de los individuos que se encuentran en cualquiera \n",
    "de los 4 estados posibles será igual a la población total:\n",
    "\n",
    "$S(t) + E(t) + I(t) + R(t) = N$\n"
   ],
   "metadata": {
    "collapsed": false,
    "pycharm": {
     "name": "#%% md\n"
    }
   }
  },
  {
   "cell_type": "markdown",
   "source": [
    "## Ejemplo de aplicación a la CCVV\n",
    "\n",
    "En primer lugar vamos a definir una función para general los gráficos:"
   ],
   "metadata": {
    "collapsed": false
   }
  },
  {
   "cell_type": "code",
   "execution_count": 11,
   "outputs": [],
   "source": [
    "def plot_seir(data, features, title):\n",
    "    for feature in features:\n",
    "        plt.plot(data[feature], label=feature)\n",
    "    plt.legend()\n",
    "    plt.suptitle(title)\n",
    "    plt.show()\n"
   ],
   "metadata": {
    "collapsed": false,
    "pycharm": {
     "name": "#%%\n",
     "is_executing": false
    }
   }
  },
  {
   "cell_type": "markdown",
   "source": [
    "### Ejemplo con el modelo simple\n",
    "\n",
    "Ahora definimos los parámetros iniciales:\n"
   ],
   "metadata": {
    "collapsed": false,
    "pycharm": {
     "name": "#%% md\n"
    }
   }
  },
  {
   "cell_type": "code",
   "execution_count": 12,
   "outputs": [],
   "source": [
    "beta = 1           # Tasa de transmisión, probabilidad de que un susceptible se infecte al entrar en contacto con un infectado.\n",
    "gamma = 1 / 5      # Tasa de recuperación, su inversa es el tiempo medio de recuperación.\n",
    "sigma = 1 / 7      # Tasa de incubación, su inversa es el tiempo promedio de incubación.\n",
    "St0 = N = 5003769  # N Población total, en este caso, de la CCVV\n",
    "It0 = 1            # Número de infectados iniciales\n",
    "Et0 = 0            # Número de expuestos iniciales\n",
    "Rt0 = 0            # Número de recuperados iniciales"
   ],
   "metadata": {
    "collapsed": false,
    "pycharm": {
     "name": "#%%\n",
     "is_executing": false
    }
   }
  },
  {
   "cell_type": "markdown",
   "source": [
    "Una vez definidos los parámetros, simulamos una epidemia durante 150 días:"
   ],
   "metadata": {
    "collapsed": false
   }
  },
  {
   "cell_type": "code",
   "execution_count": 13,
   "outputs": [
    {
     "data": {
      "text/plain": "<Figure size 432x288 with 1 Axes>",
      "image/png": "[encoded data removed]"
     },
     "metadata": {
      "needs_background": "light"
     },
     "output_type": "display_data"
    }
   ],
   "source": [
    "St_1 = St0\n",
    "It_1 = It0\n",
    "Et_1 = Et0\n",
    "Rt_1 = Rt0\n",
    "days = 150\n",
    "model_evolution = np.zeros((days, 4))\n",
    "for day in range(days):\n",
    "    St = St_1 - (beta * St_1 * It_1) / N\n",
    "    Et = Et_1 + (beta * St_1 * It_1) / N - (sigma * Et_1)\n",
    "    It = It_1 + (sigma * Et_1) - (gamma * It_1)\n",
    "    Rt = Rt_1 + (gamma * It-1)\n",
    "    St_1 = St\n",
    "    Et_1 = Et\n",
    "    It_1 = It\n",
    "    Rt_1 = Rt\n",
    "    model_evolution[day] = [St, Et, It, Rt]\n",
    "\n",
    "max_infected = np.argmax(model_evolution[:, 2])\n",
    "title = f'Pico de infectados: {int(model_evolution[max_infected, 2])} (día {max_infected})'\n",
    "df = pd.DataFrame(model_evolution, columns=['S(t)', 'E(t)', 'I(t)', 'R(t)'])\n",
    "plot_seir(data=df, features=['S(t)', 'E(t)', 'I(t)', 'R(t)'], title=title)"
   ],
   "metadata": {
    "collapsed": false,
    "pycharm": {
     "name": "#%%\n",
     "is_executing": false
    }
   }
  },
  {
   "cell_type": "markdown",
   "source": [
    "### Ejemplo con confinación\n",
    "\n",
    "El parámetro $\\beta$ se puede ajustar artificialmente si se toman medidas de contención \n",
    "(protección y aislamiento), y si la población las cumple. Un modelo sencillo seria:\n",
    "\n",
    "$\\beta(t) = \\beta_0(t)(1-\\alpha(t))(1 - \\frac{D(t)}{N})^{\\kappa}$\n",
    "\n",
    "donde:\n",
    "\n",
    "- $\\beta_0$ es la tasa de infección si no se toman medidas\n",
    "\n",
    "- $\\alpha(t)$ es el resultado de las acciones gubernamentales. Es una función constante \n",
    "a trozos, con valores en el intervalo $[0, 1]$, puesto que las acciones se toman en \n",
    "momentos concretos.\n",
    "\n",
    "- $D(t)$ representa la sensación pública de riesgo.\n",
    "\n",
    "- $\\kappa$ mide la intensidad de la reacción de la población. Un valor elevado implica mucha\n",
    "preocupación entre la población.\n",
    "\n",
    "Si, como ejemplo, consideramos que aproximadamente, como sucede con el COVID-19, el 5% de\n",
    "los casos se consideran graves, podemos tomar $D(t) = 0.05I(t)$, y un valor de $\\kappa = 100$,\n",
    "que representaría una preocupación moderada. Si consideramos que se han tomado medidas desde \n",
    "un principio, con $\\alpha(t) = 0.5$:"
   ],
   "metadata": {
    "collapsed": false
   }
  },
  {
   "cell_type": "code",
   "execution_count": 14,
   "outputs": [
    {
     "data": {
      "text/plain": "<Figure size 432x288 with 1 Axes>",
      "image/png": "[encoded data removed]"
     },
     "metadata": {
      "needs_background": "light"
     },
     "output_type": "display_data"
    }
   ],
   "source": [
    "St_1 = St0\n",
    "It_1 = It0\n",
    "Et_1 = Et0\n",
    "Rt_1 = Rt0\n",
    "betat = beta\n",
    "alpha0 = 0.5\n",
    "k = 100\n",
    "days = 300\n",
    "model_evolution = np.zeros((days, 4))\n",
    "for day in range(days):\n",
    "    St = St_1 - (betat * St_1 * It_1) / N\n",
    "    Et = Et_1 + (betat * St_1 * It_1) / N - (sigma * Et_1)\n",
    "    It = It_1 + (sigma * Et_1) - (gamma * It_1)\n",
    "    Rt = Rt_1 + (gamma * It-1)\n",
    "    betat = beta * (1 - alpha0) * (1 - 0.05 * It / N) ** k\n",
    "    St_1 = St\n",
    "    Et_1 = Et\n",
    "    It_1 = It\n",
    "    Rt_1 = Rt\n",
    "    model_evolution[day] = [St, Et, It, Rt]\n",
    "\n",
    "max_infected = np.argmax(model_evolution[:, 2])\n",
    "title = f'Pico de infectados: {int(model_evolution[max_infected, 2])} (día {max_infected})'\n",
    "df = pd.DataFrame(model_evolution, columns=['S(t)', 'E(t)', 'I(t)', 'R(t)'])\n",
    "plot_seir(data=df, features=['S(t)', 'E(t)', 'I(t)', 'R(t)'], title=title)\n"
   ],
   "metadata": {
    "collapsed": false,
    "pycharm": {
     "name": "#%%\n",
     "is_executing": false
    }
   }
  },
  {
   "cell_type": "markdown",
   "source": [
    "vemos que el pico de la epidemia es mucho mas moderado que antes, y ocurre varios días más \n",
    "tarde.\n",
    "\n"
   ],
   "metadata": {
    "collapsed": false
   }
  }
 ],
 "metadata": {
  "kernelspec": {
   "display_name": "Python 3",
   "language": "python",
   "name": "python3"
  },
  "language_info": {
   "codemirror_mode": {
    "name": "ipython",
    "version": 2
   },
   "file_extension": ".py",
   "mimetype": "text/x-python",
   "name": "python",
   "nbconvert_exporter": "python",
   "pygments_lexer": "ipython2",
   "version": "2.7.6"
  },
  "pycharm": {
   "stem_cell": {
    "cell_type": "raw",
    "source": [],
    "metadata": {
     "collapsed": false
    }
   }
  }
 },
 "nbformat": 4,
 "nbformat_minor": 0
}